{
 "cells": [
  {
   "cell_type": "markdown",
   "id": "513e2e79-c1b5-4f18-b1c9-9f0f2511dfa4",
   "metadata": {},
   "source": [
    "Carichiamo i dati e iniziamo a fare qualche carotaggio per verificare quali informazioni sono presenti"
   ]
  },
  {
   "cell_type": "code",
   "execution_count": 20,
   "id": "039ca6b4-35d9-4131-8d6f-4d3661f93278",
   "metadata": {},
   "outputs": [],
   "source": [
    "import pandas as pd\n",
    "import glob\n",
    "from datetime import datetime\n"
   ]
  },
  {
   "cell_type": "code",
   "execution_count": 21,
   "outputs": [],
   "source": [
    "dateparse = lambda x: datetime.strptime(x, '%d/%m/%Y')"
   ],
   "metadata": {
    "collapsed": false,
    "pycharm": {
     "name": "#%%\n"
    }
   }
  },
  {
   "cell_type": "code",
   "execution_count": 22,
   "outputs": [],
   "source": [
    "datafiles = glob.glob('Rapporti_di_lavoro_*.csv')"
   ],
   "metadata": {
    "collapsed": false,
    "pycharm": {
     "name": "#%%\n"
    }
   }
  },
  {
   "cell_type": "code",
   "execution_count": 24,
   "outputs": [],
   "source": [
    "files = []\n",
    "for file in datafiles:\n",
    "    df_tmp = pd.read_csv(file, parse_dates=['DATA'], date_parser=dateparse)\n",
    "    df_tmp['TIPOLOGIA'] = file[19:-4]\n",
    "    files.append(df_tmp)\n",
    "\n",
    "frame = pd.concat(files, axis=0, ignore_index=True)"
   ],
   "metadata": {
    "collapsed": false,
    "pycharm": {
     "name": "#%%\n"
    }
   }
  },
  {
   "cell_type": "code",
   "execution_count": 25,
   "outputs": [
    {
     "data": {
      "text/plain": "                         DATA GENERE  ETA  \\\n0         2019-04-02 00:00:00      M   20   \n1         2018-06-08 00:00:00      F   28   \n2         2016-02-02 00:00:00      F   20   \n3         2015-01-12 00:00:00      M   59   \n4         2017-08-09 00:00:00      M   61   \n...                       ...    ...  ...   \n18710142  2017-08-09 00:00:00      M   22   \n18710143  2019-10-01 00:00:00      F   42   \n18710144  2012-06-02 00:00:00      M   40   \n18710145  2021-05-02 00:00:00      M   21   \n18710146  2014-10-12 00:00:00      F   43   \n\n                                  SETTOREECONOMICODETTAGLIO  \\\n0                              Lavori di meccanica generale   \n1         Fabbricazione di altre apparecchiature elettri...   \n2         Fabbricazione di altre apparecchiature elettri...   \n3         Gestioni di funicolari, ski-lift e seggiovie s...   \n4         Gestioni di funicolari, ski-lift e seggiovie s...   \n...                                                     ...   \n18710142  Commercio al dettaglio di carburante per autot...   \n18710143   Produzione di software non connesso all'edizione   \n18710144                       Lavori di meccanica generale   \n18710145         Fabbricazione di altre pompe e compressori   \n18710146             Istruzione primaria: scuole elementari   \n\n                                               TITOLOSTUDIO  \\\n0         DIPLOMA DI ISTRUZIONE SECONDARIA SUPERIORE  CH...   \n1         DIPLOMA DI ISTRUZIONE SECONDARIA SUPERIORE  CH...   \n2         DIPLOMA DI ISTRUZIONE SECONDARIA SUPERIORE  CH...   \n3                                             LICENZA MEDIA   \n4                                             LICENZA MEDIA   \n...                                                     ...   \n18710142                            NESSUN TITOLO DI STUDIO   \n18710143  DIPLOMA DI ISTRUZIONE SECONDARIA SUPERIORE  CH...   \n18710144                                      LICENZA MEDIA   \n18710145  DIPLOMA DI ISTRUZIONE SECONDARIA SUPERIORE  CH...   \n18710146  DIPLOMA DI ISTRUZIONE SECONDARIA SUPERIORE  CH...   \n\n                                                  CONTRATTO  \\\n0         APPRENDISTATO PROFESSIONALIZZANTE O CONTRATTO ...   \n1         APPRENDISTATO PROFESSIONALIZZANTE O CONTRATTO ...   \n2         APPRENDISTATO PROFESSIONALIZZANTE O CONTRATTO ...   \n3                                LAVORO A TEMPO DETERMINATO   \n4                                LAVORO A TEMPO DETERMINATO   \n...                                                     ...   \n18710142                         LAVORO A TEMPO DETERMINATO   \n18710143                                          TIROCINIO   \n18710144                         LAVORO A TEMPO DETERMINATO   \n18710145                         LAVORO A TEMPO DETERMINATO   \n18710146                         LAVORO A TEMPO DETERMINATO   \n\n                      MODALITALAVORO PROVINCIAIMPRESA  ITALIANO    TIPOLOGIA  \n0                        TEMPO PIENO          BERGAMO    ITALIA      cessati  \n1                        TEMPO PIENO          BERGAMO    ITALIA      cessati  \n2                        TEMPO PIENO          BERGAMO    ITALIA      cessati  \n3                        TEMPO PIENO          BERGAMO    ITALIA      cessati  \n4                        TEMPO PIENO          BERGAMO    ITALIA      cessati  \n...                              ...              ...       ...          ...  \n18710142  TEMPO PARZIALE ORIZZONTALE          BRESCIA  PAKISTAN  trasformati  \n18710143                 TEMPO PIENO  MONZA E BRIANZA    ITALIA  trasformati  \n18710144                 TEMPO PIENO  MONZA E BRIANZA    ITALIA  trasformati  \n18710145                 TEMPO PIENO  MONZA E BRIANZA  PAKISTAN  trasformati  \n18710146                 TEMPO PIENO  MONZA E BRIANZA    ITALIA  trasformati  \n\n[18710147 rows x 10 columns]",
      "text/html": "<div>\n<style scoped>\n    .dataframe tbody tr th:only-of-type {\n        vertical-align: middle;\n    }\n\n    .dataframe tbody tr th {\n        vertical-align: top;\n    }\n\n    .dataframe thead th {\n        text-align: right;\n    }\n</style>\n<table border=\"1\" class=\"dataframe\">\n  <thead>\n    <tr style=\"text-align: right;\">\n      <th></th>\n      <th>DATA</th>\n      <th>GENERE</th>\n      <th>ETA</th>\n      <th>SETTOREECONOMICODETTAGLIO</th>\n      <th>TITOLOSTUDIO</th>\n      <th>CONTRATTO</th>\n      <th>MODALITALAVORO</th>\n      <th>PROVINCIAIMPRESA</th>\n      <th>ITALIANO</th>\n      <th>TIPOLOGIA</th>\n    </tr>\n  </thead>\n  <tbody>\n    <tr>\n      <th>0</th>\n      <td>2019-04-02 00:00:00</td>\n      <td>M</td>\n      <td>20</td>\n      <td>Lavori di meccanica generale</td>\n      <td>DIPLOMA DI ISTRUZIONE SECONDARIA SUPERIORE  CH...</td>\n      <td>APPRENDISTATO PROFESSIONALIZZANTE O CONTRATTO ...</td>\n      <td>TEMPO PIENO</td>\n      <td>BERGAMO</td>\n      <td>ITALIA</td>\n      <td>cessati</td>\n    </tr>\n    <tr>\n      <th>1</th>\n      <td>2018-06-08 00:00:00</td>\n      <td>F</td>\n      <td>28</td>\n      <td>Fabbricazione di altre apparecchiature elettri...</td>\n      <td>DIPLOMA DI ISTRUZIONE SECONDARIA SUPERIORE  CH...</td>\n      <td>APPRENDISTATO PROFESSIONALIZZANTE O CONTRATTO ...</td>\n      <td>TEMPO PIENO</td>\n      <td>BERGAMO</td>\n      <td>ITALIA</td>\n      <td>cessati</td>\n    </tr>\n    <tr>\n      <th>2</th>\n      <td>2016-02-02 00:00:00</td>\n      <td>F</td>\n      <td>20</td>\n      <td>Fabbricazione di altre apparecchiature elettri...</td>\n      <td>DIPLOMA DI ISTRUZIONE SECONDARIA SUPERIORE  CH...</td>\n      <td>APPRENDISTATO PROFESSIONALIZZANTE O CONTRATTO ...</td>\n      <td>TEMPO PIENO</td>\n      <td>BERGAMO</td>\n      <td>ITALIA</td>\n      <td>cessati</td>\n    </tr>\n    <tr>\n      <th>3</th>\n      <td>2015-01-12 00:00:00</td>\n      <td>M</td>\n      <td>59</td>\n      <td>Gestioni di funicolari, ski-lift e seggiovie s...</td>\n      <td>LICENZA MEDIA</td>\n      <td>LAVORO A TEMPO DETERMINATO</td>\n      <td>TEMPO PIENO</td>\n      <td>BERGAMO</td>\n      <td>ITALIA</td>\n      <td>cessati</td>\n    </tr>\n    <tr>\n      <th>4</th>\n      <td>2017-08-09 00:00:00</td>\n      <td>M</td>\n      <td>61</td>\n      <td>Gestioni di funicolari, ski-lift e seggiovie s...</td>\n      <td>LICENZA MEDIA</td>\n      <td>LAVORO A TEMPO DETERMINATO</td>\n      <td>TEMPO PIENO</td>\n      <td>BERGAMO</td>\n      <td>ITALIA</td>\n      <td>cessati</td>\n    </tr>\n    <tr>\n      <th>...</th>\n      <td>...</td>\n      <td>...</td>\n      <td>...</td>\n      <td>...</td>\n      <td>...</td>\n      <td>...</td>\n      <td>...</td>\n      <td>...</td>\n      <td>...</td>\n      <td>...</td>\n    </tr>\n    <tr>\n      <th>18710142</th>\n      <td>2017-08-09 00:00:00</td>\n      <td>M</td>\n      <td>22</td>\n      <td>Commercio al dettaglio di carburante per autot...</td>\n      <td>NESSUN TITOLO DI STUDIO</td>\n      <td>LAVORO A TEMPO DETERMINATO</td>\n      <td>TEMPO PARZIALE ORIZZONTALE</td>\n      <td>BRESCIA</td>\n      <td>PAKISTAN</td>\n      <td>trasformati</td>\n    </tr>\n    <tr>\n      <th>18710143</th>\n      <td>2019-10-01 00:00:00</td>\n      <td>F</td>\n      <td>42</td>\n      <td>Produzione di software non connesso all'edizione</td>\n      <td>DIPLOMA DI ISTRUZIONE SECONDARIA SUPERIORE  CH...</td>\n      <td>TIROCINIO</td>\n      <td>TEMPO PIENO</td>\n      <td>MONZA E BRIANZA</td>\n      <td>ITALIA</td>\n      <td>trasformati</td>\n    </tr>\n    <tr>\n      <th>18710144</th>\n      <td>2012-06-02 00:00:00</td>\n      <td>M</td>\n      <td>40</td>\n      <td>Lavori di meccanica generale</td>\n      <td>LICENZA MEDIA</td>\n      <td>LAVORO A TEMPO DETERMINATO</td>\n      <td>TEMPO PIENO</td>\n      <td>MONZA E BRIANZA</td>\n      <td>ITALIA</td>\n      <td>trasformati</td>\n    </tr>\n    <tr>\n      <th>18710145</th>\n      <td>2021-05-02 00:00:00</td>\n      <td>M</td>\n      <td>21</td>\n      <td>Fabbricazione di altre pompe e compressori</td>\n      <td>DIPLOMA DI ISTRUZIONE SECONDARIA SUPERIORE  CH...</td>\n      <td>LAVORO A TEMPO DETERMINATO</td>\n      <td>TEMPO PIENO</td>\n      <td>MONZA E BRIANZA</td>\n      <td>PAKISTAN</td>\n      <td>trasformati</td>\n    </tr>\n    <tr>\n      <th>18710146</th>\n      <td>2014-10-12 00:00:00</td>\n      <td>F</td>\n      <td>43</td>\n      <td>Istruzione primaria: scuole elementari</td>\n      <td>DIPLOMA DI ISTRUZIONE SECONDARIA SUPERIORE  CH...</td>\n      <td>LAVORO A TEMPO DETERMINATO</td>\n      <td>TEMPO PIENO</td>\n      <td>MONZA E BRIANZA</td>\n      <td>ITALIA</td>\n      <td>trasformati</td>\n    </tr>\n  </tbody>\n</table>\n<p>18710147 rows × 10 columns</p>\n</div>"
     },
     "execution_count": 25,
     "metadata": {},
     "output_type": "execute_result"
    }
   ],
   "source": [
    "# TODO: la lettura della data col date parser è da rivedere, ci sono probabilmente delle date che non sono scritte nel formato del paser\n",
    "frame"
   ],
   "metadata": {
    "collapsed": false,
    "pycharm": {
     "name": "#%%\n"
    }
   }
  },
  {
   "cell_type": "code",
   "execution_count": 33,
   "id": "fa545369-2da1-4bca-9260-f124bb6bf930",
   "metadata": {},
   "outputs": [
    {
     "name": "stdout",
     "output_type": "stream",
     "text": [
      "<class 'pandas.core.frame.DataFrame'>\n",
      "RangeIndex: 18710147 entries, 0 to 18710146\n",
      "Data columns (total 10 columns):\n",
      " #   Column                     Dtype \n",
      "---  ------                     ----- \n",
      " 0   DATA                       object\n",
      " 1   GENERE                     object\n",
      " 2   ETA                        int64 \n",
      " 3   SETTOREECONOMICODETTAGLIO  object\n",
      " 4   TITOLOSTUDIO               object\n",
      " 5   CONTRATTO                  object\n",
      " 6   MODALITALAVORO             object\n",
      " 7   PROVINCIAIMPRESA           object\n",
      " 8   ITALIANO                   object\n",
      " 9   TIPOLOGIA                  object\n",
      "dtypes: int64(1), object(9)\n",
      "memory usage: 1.4+ GB\n"
     ]
    }
   ],
   "source": [
    "frame.info()"
   ]
  },
  {
   "cell_type": "code",
   "execution_count": 39,
   "outputs": [
    {
     "ename": "KeyboardInterrupt",
     "evalue": "",
     "output_type": "error",
     "traceback": [
      "\u001B[0;31m---------------------------------------------------------------------------\u001B[0m",
      "\u001B[0;31mKeyboardInterrupt\u001B[0m                         Traceback (most recent call last)",
      "\u001B[0;32m/var/folders/bq/lfznycxj76g51hkjtmdqtd5h0000gn/T/ipykernel_1394/3785899139.py\u001B[0m in \u001B[0;36m<module>\u001B[0;34m\u001B[0m\n\u001B[0;32m----> 1\u001B[0;31m \u001B[0mframe\u001B[0m\u001B[0;34m.\u001B[0m\u001B[0msort_values\u001B[0m\u001B[0;34m(\u001B[0m\u001B[0mby\u001B[0m\u001B[0;34m=\u001B[0m\u001B[0;34m'DATA'\u001B[0m\u001B[0;34m,\u001B[0m \u001B[0minplace\u001B[0m\u001B[0;34m=\u001B[0m\u001B[0;32mTrue\u001B[0m\u001B[0;34m)\u001B[0m\u001B[0;34m\u001B[0m\u001B[0;34m\u001B[0m\u001B[0m\n\u001B[0m",
      "\u001B[0;32m~/opt/anaconda3/envs/DataScienceForBusiness/lib/python3.8/site-packages/pandas/util/_decorators.py\u001B[0m in \u001B[0;36mwrapper\u001B[0;34m(*args, **kwargs)\u001B[0m\n\u001B[1;32m    309\u001B[0m                     \u001B[0mstacklevel\u001B[0m\u001B[0;34m=\u001B[0m\u001B[0mstacklevel\u001B[0m\u001B[0;34m,\u001B[0m\u001B[0;34m\u001B[0m\u001B[0;34m\u001B[0m\u001B[0m\n\u001B[1;32m    310\u001B[0m                 )\n\u001B[0;32m--> 311\u001B[0;31m             \u001B[0;32mreturn\u001B[0m \u001B[0mfunc\u001B[0m\u001B[0;34m(\u001B[0m\u001B[0;34m*\u001B[0m\u001B[0margs\u001B[0m\u001B[0;34m,\u001B[0m \u001B[0;34m**\u001B[0m\u001B[0mkwargs\u001B[0m\u001B[0;34m)\u001B[0m\u001B[0;34m\u001B[0m\u001B[0;34m\u001B[0m\u001B[0m\n\u001B[0m\u001B[1;32m    312\u001B[0m \u001B[0;34m\u001B[0m\u001B[0m\n\u001B[1;32m    313\u001B[0m         \u001B[0;32mreturn\u001B[0m \u001B[0mwrapper\u001B[0m\u001B[0;34m\u001B[0m\u001B[0;34m\u001B[0m\u001B[0m\n",
      "\u001B[0;32m~/opt/anaconda3/envs/DataScienceForBusiness/lib/python3.8/site-packages/pandas/core/frame.py\u001B[0m in \u001B[0;36msort_values\u001B[0;34m(self, by, axis, ascending, inplace, kind, na_position, ignore_index, key)\u001B[0m\n\u001B[1;32m   6263\u001B[0m                 \u001B[0mascending\u001B[0m \u001B[0;34m=\u001B[0m \u001B[0mascending\u001B[0m\u001B[0;34m[\u001B[0m\u001B[0;36m0\u001B[0m\u001B[0;34m]\u001B[0m\u001B[0;34m\u001B[0m\u001B[0;34m\u001B[0m\u001B[0m\n\u001B[1;32m   6264\u001B[0m \u001B[0;34m\u001B[0m\u001B[0m\n\u001B[0;32m-> 6265\u001B[0;31m             indexer = nargsort(\n\u001B[0m\u001B[1;32m   6266\u001B[0m                 \u001B[0mk\u001B[0m\u001B[0;34m,\u001B[0m \u001B[0mkind\u001B[0m\u001B[0;34m=\u001B[0m\u001B[0mkind\u001B[0m\u001B[0;34m,\u001B[0m \u001B[0mascending\u001B[0m\u001B[0;34m=\u001B[0m\u001B[0mascending\u001B[0m\u001B[0;34m,\u001B[0m \u001B[0mna_position\u001B[0m\u001B[0;34m=\u001B[0m\u001B[0mna_position\u001B[0m\u001B[0;34m,\u001B[0m \u001B[0mkey\u001B[0m\u001B[0;34m=\u001B[0m\u001B[0mkey\u001B[0m\u001B[0;34m\u001B[0m\u001B[0;34m\u001B[0m\u001B[0m\n\u001B[1;32m   6267\u001B[0m             )\n",
      "\u001B[0;32m~/opt/anaconda3/envs/DataScienceForBusiness/lib/python3.8/site-packages/pandas/core/sorting.py\u001B[0m in \u001B[0;36mnargsort\u001B[0;34m(items, kind, ascending, na_position, key, mask)\u001B[0m\n\u001B[1;32m    401\u001B[0m         \u001B[0mnon_nans\u001B[0m \u001B[0;34m=\u001B[0m \u001B[0mnon_nans\u001B[0m\u001B[0;34m[\u001B[0m\u001B[0;34m:\u001B[0m\u001B[0;34m:\u001B[0m\u001B[0;34m-\u001B[0m\u001B[0;36m1\u001B[0m\u001B[0;34m]\u001B[0m\u001B[0;34m\u001B[0m\u001B[0;34m\u001B[0m\u001B[0m\n\u001B[1;32m    402\u001B[0m         \u001B[0mnon_nan_idx\u001B[0m \u001B[0;34m=\u001B[0m \u001B[0mnon_nan_idx\u001B[0m\u001B[0;34m[\u001B[0m\u001B[0;34m:\u001B[0m\u001B[0;34m:\u001B[0m\u001B[0;34m-\u001B[0m\u001B[0;36m1\u001B[0m\u001B[0;34m]\u001B[0m\u001B[0;34m\u001B[0m\u001B[0;34m\u001B[0m\u001B[0m\n\u001B[0;32m--> 403\u001B[0;31m     \u001B[0mindexer\u001B[0m \u001B[0;34m=\u001B[0m \u001B[0mnon_nan_idx\u001B[0m\u001B[0;34m[\u001B[0m\u001B[0mnon_nans\u001B[0m\u001B[0;34m.\u001B[0m\u001B[0margsort\u001B[0m\u001B[0;34m(\u001B[0m\u001B[0mkind\u001B[0m\u001B[0;34m=\u001B[0m\u001B[0mkind\u001B[0m\u001B[0;34m)\u001B[0m\u001B[0;34m]\u001B[0m\u001B[0;34m\u001B[0m\u001B[0;34m\u001B[0m\u001B[0m\n\u001B[0m\u001B[1;32m    404\u001B[0m     \u001B[0;32mif\u001B[0m \u001B[0;32mnot\u001B[0m \u001B[0mascending\u001B[0m\u001B[0;34m:\u001B[0m\u001B[0;34m\u001B[0m\u001B[0;34m\u001B[0m\u001B[0m\n\u001B[1;32m    405\u001B[0m         \u001B[0mindexer\u001B[0m \u001B[0;34m=\u001B[0m \u001B[0mindexer\u001B[0m\u001B[0;34m[\u001B[0m\u001B[0;34m:\u001B[0m\u001B[0;34m:\u001B[0m\u001B[0;34m-\u001B[0m\u001B[0;36m1\u001B[0m\u001B[0;34m]\u001B[0m\u001B[0;34m\u001B[0m\u001B[0;34m\u001B[0m\u001B[0m\n",
      "\u001B[0;31mKeyboardInterrupt\u001B[0m: "
     ]
    }
   ],
   "source": [
    "frame.sort_values(by='DATA', inplace=True)"
   ],
   "metadata": {
    "collapsed": false,
    "pycharm": {
     "name": "#%%\n"
    }
   }
  },
  {
   "cell_type": "code",
   "execution_count": 36,
   "outputs": [
    {
     "ename": "OutOfBoundsDatetime",
     "evalue": "Out of bounds nanosecond timestamp: 2600-11-12 00:00:00",
     "output_type": "error",
     "traceback": [
      "\u001B[0;31m---------------------------------------------------------------------------\u001B[0m",
      "\u001B[0;31mOutOfBoundsDatetime\u001B[0m                       Traceback (most recent call last)",
      "\u001B[0;32m~/opt/anaconda3/envs/DataScienceForBusiness/lib/python3.8/site-packages/pandas/core/arrays/datetimes.py\u001B[0m in \u001B[0;36mobjects_to_datetime64ns\u001B[0;34m(data, dayfirst, yearfirst, utc, errors, require_iso8601, allow_object, allow_mixed)\u001B[0m\n\u001B[1;32m   2186\u001B[0m         \u001B[0;32mtry\u001B[0m\u001B[0;34m:\u001B[0m\u001B[0;34m\u001B[0m\u001B[0;34m\u001B[0m\u001B[0m\n\u001B[0;32m-> 2187\u001B[0;31m             \u001B[0mvalues\u001B[0m\u001B[0;34m,\u001B[0m \u001B[0mtz_parsed\u001B[0m \u001B[0;34m=\u001B[0m \u001B[0mconversion\u001B[0m\u001B[0;34m.\u001B[0m\u001B[0mdatetime_to_datetime64\u001B[0m\u001B[0;34m(\u001B[0m\u001B[0mdata\u001B[0m\u001B[0;34m.\u001B[0m\u001B[0mravel\u001B[0m\u001B[0;34m(\u001B[0m\u001B[0;34m\"K\"\u001B[0m\u001B[0;34m)\u001B[0m\u001B[0;34m)\u001B[0m\u001B[0;34m\u001B[0m\u001B[0;34m\u001B[0m\u001B[0m\n\u001B[0m\u001B[1;32m   2188\u001B[0m             \u001B[0;31m# If tzaware, these values represent unix timestamps, so we\u001B[0m\u001B[0;34m\u001B[0m\u001B[0;34m\u001B[0m\u001B[0;34m\u001B[0m\u001B[0m\n",
      "\u001B[0;32m~/opt/anaconda3/envs/DataScienceForBusiness/lib/python3.8/site-packages/pandas/_libs/tslibs/conversion.pyx\u001B[0m in \u001B[0;36mpandas._libs.tslibs.conversion.datetime_to_datetime64\u001B[0;34m()\u001B[0m\n",
      "\u001B[0;32m~/opt/anaconda3/envs/DataScienceForBusiness/lib/python3.8/site-packages/pandas/_libs/tslibs/np_datetime.pyx\u001B[0m in \u001B[0;36mpandas._libs.tslibs.np_datetime.check_dts_bounds\u001B[0;34m()\u001B[0m\n",
      "\u001B[0;31mOutOfBoundsDatetime\u001B[0m: Out of bounds nanosecond timestamp: 2600-11-12 00:00:00",
      "\nDuring handling of the above exception, another exception occurred:\n",
      "\u001B[0;31mOutOfBoundsDatetime\u001B[0m                       Traceback (most recent call last)",
      "\u001B[0;32m/var/folders/bq/lfznycxj76g51hkjtmdqtd5h0000gn/T/ipykernel_1394/3809814096.py\u001B[0m in \u001B[0;36m<module>\u001B[0;34m\u001B[0m\n\u001B[0;32m----> 1\u001B[0;31m \u001B[0mframe\u001B[0m\u001B[0;34m[\u001B[0m\u001B[0;34m'ANNO'\u001B[0m\u001B[0;34m]\u001B[0m \u001B[0;34m=\u001B[0m \u001B[0mpd\u001B[0m\u001B[0;34m.\u001B[0m\u001B[0mDatetimeIndex\u001B[0m\u001B[0;34m(\u001B[0m\u001B[0mframe\u001B[0m\u001B[0;34m[\u001B[0m\u001B[0;34m'DATA'\u001B[0m\u001B[0;34m]\u001B[0m\u001B[0;34m)\u001B[0m\u001B[0;34m.\u001B[0m\u001B[0myear\u001B[0m\u001B[0;34m\u001B[0m\u001B[0;34m\u001B[0m\u001B[0m\n\u001B[0m\u001B[1;32m      2\u001B[0m \u001B[0mframe\u001B[0m\u001B[0;34m[\u001B[0m\u001B[0;34m'MESE'\u001B[0m\u001B[0;34m]\u001B[0m \u001B[0;34m=\u001B[0m \u001B[0mpd\u001B[0m\u001B[0;34m.\u001B[0m\u001B[0mDatetimeIndex\u001B[0m\u001B[0;34m(\u001B[0m\u001B[0mframe\u001B[0m\u001B[0;34m[\u001B[0m\u001B[0;34m'DATA'\u001B[0m\u001B[0;34m]\u001B[0m\u001B[0;34m)\u001B[0m\u001B[0;34m.\u001B[0m\u001B[0mmonth\u001B[0m\u001B[0;34m\u001B[0m\u001B[0;34m\u001B[0m\u001B[0m\n",
      "\u001B[0;32m~/opt/anaconda3/envs/DataScienceForBusiness/lib/python3.8/site-packages/pandas/core/indexes/datetimes.py\u001B[0m in \u001B[0;36m__new__\u001B[0;34m(cls, data, freq, tz, normalize, closed, ambiguous, dayfirst, yearfirst, dtype, copy, name)\u001B[0m\n\u001B[1;32m    330\u001B[0m         \u001B[0mname\u001B[0m \u001B[0;34m=\u001B[0m \u001B[0mmaybe_extract_name\u001B[0m\u001B[0;34m(\u001B[0m\u001B[0mname\u001B[0m\u001B[0;34m,\u001B[0m \u001B[0mdata\u001B[0m\u001B[0;34m,\u001B[0m \u001B[0mcls\u001B[0m\u001B[0;34m)\u001B[0m\u001B[0;34m\u001B[0m\u001B[0;34m\u001B[0m\u001B[0m\n\u001B[1;32m    331\u001B[0m \u001B[0;34m\u001B[0m\u001B[0m\n\u001B[0;32m--> 332\u001B[0;31m         dtarr = DatetimeArray._from_sequence_not_strict(\n\u001B[0m\u001B[1;32m    333\u001B[0m             \u001B[0mdata\u001B[0m\u001B[0;34m,\u001B[0m\u001B[0;34m\u001B[0m\u001B[0;34m\u001B[0m\u001B[0m\n\u001B[1;32m    334\u001B[0m             \u001B[0mdtype\u001B[0m\u001B[0;34m=\u001B[0m\u001B[0mdtype\u001B[0m\u001B[0;34m,\u001B[0m\u001B[0;34m\u001B[0m\u001B[0;34m\u001B[0m\u001B[0m\n",
      "\u001B[0;32m~/opt/anaconda3/envs/DataScienceForBusiness/lib/python3.8/site-packages/pandas/core/arrays/datetimes.py\u001B[0m in \u001B[0;36m_from_sequence_not_strict\u001B[0;34m(cls, data, dtype, copy, tz, freq, dayfirst, yearfirst, ambiguous)\u001B[0m\n\u001B[1;32m    353\u001B[0m         \u001B[0mfreq\u001B[0m\u001B[0;34m,\u001B[0m \u001B[0mfreq_infer\u001B[0m \u001B[0;34m=\u001B[0m \u001B[0mdtl\u001B[0m\u001B[0;34m.\u001B[0m\u001B[0mmaybe_infer_freq\u001B[0m\u001B[0;34m(\u001B[0m\u001B[0mfreq\u001B[0m\u001B[0;34m)\u001B[0m\u001B[0;34m\u001B[0m\u001B[0;34m\u001B[0m\u001B[0m\n\u001B[1;32m    354\u001B[0m \u001B[0;34m\u001B[0m\u001B[0m\n\u001B[0;32m--> 355\u001B[0;31m         subarr, tz, inferred_freq = sequence_to_dt64ns(\n\u001B[0m\u001B[1;32m    356\u001B[0m             \u001B[0mdata\u001B[0m\u001B[0;34m,\u001B[0m\u001B[0;34m\u001B[0m\u001B[0;34m\u001B[0m\u001B[0m\n\u001B[1;32m    357\u001B[0m             \u001B[0mdtype\u001B[0m\u001B[0;34m=\u001B[0m\u001B[0mdtype\u001B[0m\u001B[0;34m,\u001B[0m\u001B[0;34m\u001B[0m\u001B[0;34m\u001B[0m\u001B[0m\n",
      "\u001B[0;32m~/opt/anaconda3/envs/DataScienceForBusiness/lib/python3.8/site-packages/pandas/core/arrays/datetimes.py\u001B[0m in \u001B[0;36msequence_to_dt64ns\u001B[0;34m(data, dtype, copy, tz, dayfirst, yearfirst, ambiguous, allow_object, allow_mixed, require_iso8601)\u001B[0m\n\u001B[1;32m   2058\u001B[0m             \u001B[0;31m# data comes back here as either i8 to denote UTC timestamps\u001B[0m\u001B[0;34m\u001B[0m\u001B[0;34m\u001B[0m\u001B[0;34m\u001B[0m\u001B[0m\n\u001B[1;32m   2059\u001B[0m             \u001B[0;31m#  or M8[ns] to denote wall times\u001B[0m\u001B[0;34m\u001B[0m\u001B[0;34m\u001B[0m\u001B[0;34m\u001B[0m\u001B[0m\n\u001B[0;32m-> 2060\u001B[0;31m             data, inferred_tz = objects_to_datetime64ns(\n\u001B[0m\u001B[1;32m   2061\u001B[0m                 \u001B[0mdata\u001B[0m\u001B[0;34m,\u001B[0m\u001B[0;34m\u001B[0m\u001B[0;34m\u001B[0m\u001B[0m\n\u001B[1;32m   2062\u001B[0m                 \u001B[0mdayfirst\u001B[0m\u001B[0;34m=\u001B[0m\u001B[0mdayfirst\u001B[0m\u001B[0;34m,\u001B[0m\u001B[0;34m\u001B[0m\u001B[0;34m\u001B[0m\u001B[0m\n",
      "\u001B[0;32m~/opt/anaconda3/envs/DataScienceForBusiness/lib/python3.8/site-packages/pandas/core/arrays/datetimes.py\u001B[0m in \u001B[0;36mobjects_to_datetime64ns\u001B[0;34m(data, dayfirst, yearfirst, utc, errors, require_iso8601, allow_object, allow_mixed)\u001B[0m\n\u001B[1;32m   2191\u001B[0m             \u001B[0;32mreturn\u001B[0m \u001B[0mvalues\u001B[0m\u001B[0;34m.\u001B[0m\u001B[0mview\u001B[0m\u001B[0;34m(\u001B[0m\u001B[0;34m\"i8\"\u001B[0m\u001B[0;34m)\u001B[0m\u001B[0;34m,\u001B[0m \u001B[0mtz_parsed\u001B[0m\u001B[0;34m\u001B[0m\u001B[0;34m\u001B[0m\u001B[0m\n\u001B[1;32m   2192\u001B[0m         \u001B[0;32mexcept\u001B[0m \u001B[0;34m(\u001B[0m\u001B[0mValueError\u001B[0m\u001B[0;34m,\u001B[0m \u001B[0mTypeError\u001B[0m\u001B[0;34m)\u001B[0m\u001B[0;34m:\u001B[0m\u001B[0;34m\u001B[0m\u001B[0;34m\u001B[0m\u001B[0m\n\u001B[0;32m-> 2193\u001B[0;31m             \u001B[0;32mraise\u001B[0m \u001B[0merr\u001B[0m\u001B[0;34m\u001B[0m\u001B[0;34m\u001B[0m\u001B[0m\n\u001B[0m\u001B[1;32m   2194\u001B[0m \u001B[0;34m\u001B[0m\u001B[0m\n\u001B[1;32m   2195\u001B[0m     \u001B[0;32mif\u001B[0m \u001B[0mtz_parsed\u001B[0m \u001B[0;32mis\u001B[0m \u001B[0;32mnot\u001B[0m \u001B[0;32mNone\u001B[0m\u001B[0;34m:\u001B[0m\u001B[0;34m\u001B[0m\u001B[0;34m\u001B[0m\u001B[0m\n",
      "\u001B[0;32m~/opt/anaconda3/envs/DataScienceForBusiness/lib/python3.8/site-packages/pandas/core/arrays/datetimes.py\u001B[0m in \u001B[0;36mobjects_to_datetime64ns\u001B[0;34m(data, dayfirst, yearfirst, utc, errors, require_iso8601, allow_object, allow_mixed)\u001B[0m\n\u001B[1;32m   2173\u001B[0m     \u001B[0morder\u001B[0m\u001B[0;34m:\u001B[0m \u001B[0mLiteral\u001B[0m\u001B[0;34m[\u001B[0m\u001B[0;34m\"F\"\u001B[0m\u001B[0;34m,\u001B[0m \u001B[0;34m\"C\"\u001B[0m\u001B[0;34m]\u001B[0m \u001B[0;34m=\u001B[0m \u001B[0;34m\"F\"\u001B[0m \u001B[0;32mif\u001B[0m \u001B[0mflags\u001B[0m\u001B[0;34m.\u001B[0m\u001B[0mf_contiguous\u001B[0m \u001B[0;32melse\u001B[0m \u001B[0;34m\"C\"\u001B[0m\u001B[0;34m\u001B[0m\u001B[0;34m\u001B[0m\u001B[0m\n\u001B[1;32m   2174\u001B[0m     \u001B[0;32mtry\u001B[0m\u001B[0;34m:\u001B[0m\u001B[0;34m\u001B[0m\u001B[0;34m\u001B[0m\u001B[0m\n\u001B[0;32m-> 2175\u001B[0;31m         result, tz_parsed = tslib.array_to_datetime(\n\u001B[0m\u001B[1;32m   2176\u001B[0m             \u001B[0mdata\u001B[0m\u001B[0;34m.\u001B[0m\u001B[0mravel\u001B[0m\u001B[0;34m(\u001B[0m\u001B[0;34m\"K\"\u001B[0m\u001B[0;34m)\u001B[0m\u001B[0;34m,\u001B[0m\u001B[0;34m\u001B[0m\u001B[0;34m\u001B[0m\u001B[0m\n\u001B[1;32m   2177\u001B[0m             \u001B[0merrors\u001B[0m\u001B[0;34m=\u001B[0m\u001B[0merrors\u001B[0m\u001B[0;34m,\u001B[0m\u001B[0;34m\u001B[0m\u001B[0;34m\u001B[0m\u001B[0m\n",
      "\u001B[0;32m~/opt/anaconda3/envs/DataScienceForBusiness/lib/python3.8/site-packages/pandas/_libs/tslib.pyx\u001B[0m in \u001B[0;36mpandas._libs.tslib.array_to_datetime\u001B[0;34m()\u001B[0m\n",
      "\u001B[0;32m~/opt/anaconda3/envs/DataScienceForBusiness/lib/python3.8/site-packages/pandas/_libs/tslib.pyx\u001B[0m in \u001B[0;36mpandas._libs.tslib.array_to_datetime\u001B[0;34m()\u001B[0m\n",
      "\u001B[0;32m~/opt/anaconda3/envs/DataScienceForBusiness/lib/python3.8/site-packages/pandas/_libs/tslib.pyx\u001B[0m in \u001B[0;36mpandas._libs.tslib.array_to_datetime\u001B[0;34m()\u001B[0m\n",
      "\u001B[0;32m~/opt/anaconda3/envs/DataScienceForBusiness/lib/python3.8/site-packages/pandas/_libs/tslib.pyx\u001B[0m in \u001B[0;36mpandas._libs.tslib.array_to_datetime\u001B[0;34m()\u001B[0m\n",
      "\u001B[0;32m~/opt/anaconda3/envs/DataScienceForBusiness/lib/python3.8/site-packages/pandas/_libs/tslibs/np_datetime.pyx\u001B[0m in \u001B[0;36mpandas._libs.tslibs.np_datetime.check_dts_bounds\u001B[0;34m()\u001B[0m\n",
      "\u001B[0;31mOutOfBoundsDatetime\u001B[0m: Out of bounds nanosecond timestamp: 2600-11-12 00:00:00"
     ]
    }
   ],
   "source": [
    "frame['ANNO'] = pd.DatetimeIndex(frame['DATA']).year\n",
    "frame['MESE'] = pd.DatetimeIndex(frame['DATA']).month"
   ],
   "metadata": {
    "collapsed": false,
    "pycharm": {
     "name": "#%%\n"
    }
   }
  },
  {
   "cell_type": "code",
   "execution_count": 34,
   "id": "e10c5d89-555d-4f52-9532-1bbe13f26aa9",
   "metadata": {},
   "outputs": [
    {
     "data": {
      "text/plain": "SETTOREECONOMICODETTAGLIO\nAcquacoltura in acqua di mare, salmastra o lagunare e servizi connessi                                1642\nAcquacoltura in acque dolci e servizi connessi                                                         868\nAffari esteri                                                                                         1277\nAffittacamere per brevi soggiorni, case ed appartamenti per vacanze, bed and breakfast, residence    14418\nAffitto di aziende                                                                                     772\n                                                                                                     ...  \nTrattamento igienico del latte                                                                        2268\nTrivellazioni e perforazioni                                                                          4671\nUniversità popolare                                                                                     94\nUtilizzo di aree forestali                                                                            2593\nVillaggi turistici                                                                                    1529\nLength: 1225, dtype: int64"
     },
     "execution_count": 34,
     "metadata": {},
     "output_type": "execute_result"
    }
   ],
   "source": [
    "frame.groupby(['SETTOREECONOMICODETTAGLIO']).size()\n"
   ]
  },
  {
   "cell_type": "code",
   "execution_count": 14,
   "id": "723aeb66-1efd-43fd-b5fe-60ae0444c070",
   "metadata": {},
   "outputs": [],
   "source": [
    "ateco = pd.read_excel('CodiceAteco.xlsx')\n",
    "ateco"
   ]
  },
  {
   "cell_type": "code",
   "execution_count": 16,
   "id": "d2b98c39-221c-4131-a97d-602eaaa86860",
   "metadata": {},
   "outputs": [],
   "source": [
    "frame_ateco = frame.merge(ateco, left_on='SETTOREECONOMICODETTAGLIO', right_on='Descrizione', how='left', indicator=True)"
   ]
  },
  {
   "cell_type": "code",
   "execution_count": 19,
   "id": "7c697c40-0906-43f5-947d-95faf4a24515",
   "metadata": {},
   "outputs": [
    {
     "data": {
      "text/plain": "TIPOLOGIA\nattivati       9579794\ncessati        3741394\nprorogati      3413617\ntrasformati    1975342\ndtype: int64"
     },
     "execution_count": 19,
     "metadata": {},
     "output_type": "execute_result"
    }
   ],
   "source": [
    "frame_ateco.groupby(['TIPOLOGIA']).size()"
   ]
  },
  {
   "cell_type": "code",
   "execution_count": 39,
   "id": "017ce267-db33-4117-a7be-723f405ed25f",
   "metadata": {},
   "outputs": [
    {
     "data": {
      "text/html": [
       "<div>\n",
       "<style scoped>\n",
       "    .dataframe tbody tr th:only-of-type {\n",
       "        vertical-align: middle;\n",
       "    }\n",
       "\n",
       "    .dataframe tbody tr th {\n",
       "        vertical-align: top;\n",
       "    }\n",
       "\n",
       "    .dataframe thead th {\n",
       "        text-align: right;\n",
       "    }\n",
       "</style>\n",
       "<table border=\"1\" class=\"dataframe\">\n",
       "  <thead>\n",
       "    <tr style=\"text-align: right;\">\n",
       "      <th>GENERE</th>\n",
       "      <th>F</th>\n",
       "      <th>M</th>\n",
       "    </tr>\n",
       "    <tr>\n",
       "      <th>Lettera</th>\n",
       "      <th></th>\n",
       "      <th></th>\n",
       "    </tr>\n",
       "  </thead>\n",
       "  <tbody>\n",
       "    <tr>\n",
       "      <th>A</th>\n",
       "      <td>5220</td>\n",
       "      <td>20166</td>\n",
       "    </tr>\n",
       "    <tr>\n",
       "      <th>B</th>\n",
       "      <td>88</td>\n",
       "      <td>516</td>\n",
       "    </tr>\n",
       "    <tr>\n",
       "      <th>C</th>\n",
       "      <td>60710</td>\n",
       "      <td>148446</td>\n",
       "    </tr>\n",
       "    <tr>\n",
       "      <th>D</th>\n",
       "      <td>615</td>\n",
       "      <td>885</td>\n",
       "    </tr>\n",
       "    <tr>\n",
       "      <th>E</th>\n",
       "      <td>1186</td>\n",
       "      <td>7725</td>\n",
       "    </tr>\n",
       "    <tr>\n",
       "      <th>F</th>\n",
       "      <td>5059</td>\n",
       "      <td>88299</td>\n",
       "    </tr>\n",
       "    <tr>\n",
       "      <th>G</th>\n",
       "      <td>118009</td>\n",
       "      <td>81835</td>\n",
       "    </tr>\n",
       "    <tr>\n",
       "      <th>H</th>\n",
       "      <td>38280</td>\n",
       "      <td>124931</td>\n",
       "    </tr>\n",
       "    <tr>\n",
       "      <th>I</th>\n",
       "      <td>93272</td>\n",
       "      <td>109798</td>\n",
       "    </tr>\n",
       "    <tr>\n",
       "      <th>J</th>\n",
       "      <td>25653</td>\n",
       "      <td>28788</td>\n",
       "    </tr>\n",
       "    <tr>\n",
       "      <th>K</th>\n",
       "      <td>7822</td>\n",
       "      <td>5135</td>\n",
       "    </tr>\n",
       "    <tr>\n",
       "      <th>L</th>\n",
       "      <td>2684</td>\n",
       "      <td>1773</td>\n",
       "    </tr>\n",
       "    <tr>\n",
       "      <th>M</th>\n",
       "      <td>30574</td>\n",
       "      <td>25098</td>\n",
       "    </tr>\n",
       "    <tr>\n",
       "      <th>N</th>\n",
       "      <td>102462</td>\n",
       "      <td>119421</td>\n",
       "    </tr>\n",
       "    <tr>\n",
       "      <th>O</th>\n",
       "      <td>12177</td>\n",
       "      <td>12065</td>\n",
       "    </tr>\n",
       "    <tr>\n",
       "      <th>P</th>\n",
       "      <td>174555</td>\n",
       "      <td>50113</td>\n",
       "    </tr>\n",
       "    <tr>\n",
       "      <th>Q</th>\n",
       "      <td>47174</td>\n",
       "      <td>19074</td>\n",
       "    </tr>\n",
       "    <tr>\n",
       "      <th>R</th>\n",
       "      <td>16056</td>\n",
       "      <td>16866</td>\n",
       "    </tr>\n",
       "    <tr>\n",
       "      <th>S</th>\n",
       "      <td>32225</td>\n",
       "      <td>20717</td>\n",
       "    </tr>\n",
       "  </tbody>\n",
       "</table>\n",
       "</div>"
      ],
      "text/plain": [
       "GENERE        F       M\n",
       "Lettera                \n",
       "A          5220   20166\n",
       "B            88     516\n",
       "C         60710  148446\n",
       "D           615     885\n",
       "E          1186    7725\n",
       "F          5059   88299\n",
       "G        118009   81835\n",
       "H         38280  124931\n",
       "I         93272  109798\n",
       "J         25653   28788\n",
       "K          7822    5135\n",
       "L          2684    1773\n",
       "M         30574   25098\n",
       "N        102462  119421\n",
       "O         12177   12065\n",
       "P        174555   50113\n",
       "Q         47174   19074\n",
       "R         16056   16866\n",
       "S         32225   20717"
      ]
     },
     "execution_count": 39,
     "metadata": {},
     "output_type": "execute_result"
    }
   ],
   "source": [
    "pd.crosstab(frame_ateco.Lettera, frame_ateco.GENERE)"
   ]
  },
  {
   "cell_type": "code",
   "execution_count": 41,
   "id": "36b69db5-a711-4089-ba5a-7376ca5a7f8f",
   "metadata": {},
   "outputs": [
    {
     "data": {
      "text/plain": [
       "'12/12/2020'"
      ]
     },
     "execution_count": 41,
     "metadata": {},
     "output_type": "execute_result"
    }
   ],
   "source": [
    "frame_ateco.DATA.max()"
   ]
  },
  {
   "cell_type": "code",
   "execution_count": 42,
   "id": "ef3941a7-c356-4a9b-97cf-c9d4a5f5345d",
   "metadata": {},
   "outputs": [
    {
     "data": {
      "text/plain": [
       "'01/01/2010'"
      ]
     },
     "execution_count": 42,
     "metadata": {},
     "output_type": "execute_result"
    }
   ],
   "source": [
    "frame_ateco.DATA.min()"
   ]
  },
  {
   "cell_type": "code",
   "execution_count": 45,
   "id": "712bc805-7839-402e-866d-ae1728b2abb7",
   "metadata": {},
   "outputs": [
    {
     "data": {
      "text/html": [
       "<div>\n",
       "<style scoped>\n",
       "    .dataframe tbody tr th:only-of-type {\n",
       "        vertical-align: middle;\n",
       "    }\n",
       "\n",
       "    .dataframe tbody tr th {\n",
       "        vertical-align: top;\n",
       "    }\n",
       "\n",
       "    .dataframe thead th {\n",
       "        text-align: right;\n",
       "    }\n",
       "</style>\n",
       "<table border=\"1\" class=\"dataframe\">\n",
       "  <thead>\n",
       "    <tr style=\"text-align: right;\">\n",
       "      <th>GENERE</th>\n",
       "      <th>F</th>\n",
       "      <th>M</th>\n",
       "      <th>All</th>\n",
       "    </tr>\n",
       "    <tr>\n",
       "      <th>TITOLOSTUDIO</th>\n",
       "      <th></th>\n",
       "      <th></th>\n",
       "      <th></th>\n",
       "    </tr>\n",
       "  </thead>\n",
       "  <tbody>\n",
       "    <tr>\n",
       "      <th>DIPLOMA DI ISTRUZIONE SECONDARIA SUPERIORE  CHE PERMETTE L'ACCESSO ALL'UNIVERSITA</th>\n",
       "      <td>302834</td>\n",
       "      <td>213558</td>\n",
       "      <td>516392</td>\n",
       "    </tr>\n",
       "    <tr>\n",
       "      <th>DIPLOMA DI SPECIALIZZAZIONE</th>\n",
       "      <td>5501</td>\n",
       "      <td>4111</td>\n",
       "      <td>9612</td>\n",
       "    </tr>\n",
       "    <tr>\n",
       "      <th>DIPLOMA TERZIARIO EXTRA-UNIVERSITARIO</th>\n",
       "      <td>655</td>\n",
       "      <td>401</td>\n",
       "      <td>1056</td>\n",
       "    </tr>\n",
       "    <tr>\n",
       "      <th>DIPLOMA UNIVERSITARIO</th>\n",
       "      <td>9142</td>\n",
       "      <td>5174</td>\n",
       "      <td>14316</td>\n",
       "    </tr>\n",
       "    <tr>\n",
       "      <th>LAUREA - Vecchio o nuovo ordinamento</th>\n",
       "      <td>149645</td>\n",
       "      <td>69040</td>\n",
       "      <td>218685</td>\n",
       "    </tr>\n",
       "    <tr>\n",
       "      <th>LICENZA ELEMENTARE</th>\n",
       "      <td>3729</td>\n",
       "      <td>14309</td>\n",
       "      <td>18038</td>\n",
       "    </tr>\n",
       "    <tr>\n",
       "      <th>LICENZA MEDIA</th>\n",
       "      <td>194024</td>\n",
       "      <td>340259</td>\n",
       "      <td>534283</td>\n",
       "    </tr>\n",
       "    <tr>\n",
       "      <th>MASTER UNIVERSITARIO DI PRIMO LIVELLO</th>\n",
       "      <td>1246</td>\n",
       "      <td>653</td>\n",
       "      <td>1899</td>\n",
       "    </tr>\n",
       "    <tr>\n",
       "      <th>NESSUN TITOLO DI STUDIO</th>\n",
       "      <td>161994</td>\n",
       "      <td>322216</td>\n",
       "      <td>484210</td>\n",
       "    </tr>\n",
       "    <tr>\n",
       "      <th>TITOLO DI DOTTORE DI RICERCA</th>\n",
       "      <td>6222</td>\n",
       "      <td>4111</td>\n",
       "      <td>10333</td>\n",
       "    </tr>\n",
       "    <tr>\n",
       "      <th>TITOLO DI ISTRUZIONE SECONDARIA SUPERIORE (SCOLASTICA ED EXTRA-SCOLASTICA) CHE NON PERMETTE L'ACCESSO ALL'UNIVERSITÀ ()</th>\n",
       "      <td>77339</td>\n",
       "      <td>87354</td>\n",
       "      <td>164693</td>\n",
       "    </tr>\n",
       "    <tr>\n",
       "      <th>TITOLO DI STUDIO POST-LAUREA</th>\n",
       "      <td>1081</td>\n",
       "      <td>584</td>\n",
       "      <td>1665</td>\n",
       "    </tr>\n",
       "    <tr>\n",
       "      <th>All</th>\n",
       "      <td>913412</td>\n",
       "      <td>1061770</td>\n",
       "      <td>1975182</td>\n",
       "    </tr>\n",
       "  </tbody>\n",
       "</table>\n",
       "</div>"
      ],
      "text/plain": [
       "GENERE                                                   F        M      All\n",
       "TITOLOSTUDIO                                                                \n",
       "DIPLOMA DI ISTRUZIONE SECONDARIA SUPERIORE  CHE...  302834   213558   516392\n",
       "DIPLOMA DI SPECIALIZZAZIONE                           5501     4111     9612\n",
       "DIPLOMA TERZIARIO EXTRA-UNIVERSITARIO                  655      401     1056\n",
       "DIPLOMA UNIVERSITARIO                                 9142     5174    14316\n",
       "LAUREA - Vecchio o nuovo ordinamento                149645    69040   218685\n",
       "LICENZA ELEMENTARE                                    3729    14309    18038\n",
       "LICENZA MEDIA                                       194024   340259   534283\n",
       "MASTER UNIVERSITARIO DI PRIMO LIVELLO                 1246      653     1899\n",
       "NESSUN TITOLO DI STUDIO                             161994   322216   484210\n",
       "TITOLO DI DOTTORE DI RICERCA                          6222     4111    10333\n",
       "TITOLO DI ISTRUZIONE SECONDARIA SUPERIORE (SCOL...   77339    87354   164693\n",
       "TITOLO DI STUDIO POST-LAUREA                          1081      584     1665\n",
       "All                                                 913412  1061770  1975182"
      ]
     },
     "execution_count": 45,
     "metadata": {},
     "output_type": "execute_result"
    }
   ],
   "source": [
    "pd.crosstab(frame_ateco.TITOLOSTUDIO, frame_ateco.GENERE, margins=True)"
   ]
  },
  {
   "cell_type": "code",
   "execution_count": null,
   "id": "3b5c3052-906c-4407-80e6-6e2c7defe68d",
   "metadata": {},
   "outputs": [],
   "source": []
  }
 ],
 "metadata": {
  "kernelspec": {
   "display_name": "Python 3 (ipykernel)",
   "language": "python",
   "name": "python3"
  },
  "language_info": {
   "codemirror_mode": {
    "name": "ipython",
    "version": 3
   },
   "file_extension": ".py",
   "mimetype": "text/x-python",
   "name": "python",
   "nbconvert_exporter": "python",
   "pygments_lexer": "ipython3",
   "version": "3.8.11"
  }
 },
 "nbformat": 4,
 "nbformat_minor": 5
}